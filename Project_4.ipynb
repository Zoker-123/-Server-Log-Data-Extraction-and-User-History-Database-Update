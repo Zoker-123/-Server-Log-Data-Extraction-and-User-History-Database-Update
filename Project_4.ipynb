{
 "cells": [
  {
   "cell_type": "code",
   "execution_count": 2,
   "id": "1b05e469-069a-41e7-8564-2f2e37bc8c9c",
   "metadata": {},
   "outputs": [],
   "source": [
    "import re\n",
    "import sqlite3\n",
    "from datetime import datetime\n",
    "from pymongo import MongoClient\n",
    "from dateutil.parser import parse"
   ]
  },
  {
   "cell_type": "markdown",
   "id": "fd696fe0-45dc-4a0d-978f-2fc6d99262a2",
   "metadata": {},
   "source": [
    "### Task 1: Extract Email Addresses and Dates"
   ]
  },
  {
   "cell_type": "code",
   "execution_count": 115,
   "id": "5aedfc1d-19ff-46eb-94d3-dd7a875a893c",
   "metadata": {},
   "outputs": [],
   "source": [
    "def extract_email_data(log_file):\n",
    "    email_pattern = r'[a-zA-Z0-9._%+-]+@[a-zA-Z0-9.-]+\\.[a-zA-Z]{2,}'\n",
    "    date_pattern = r'(?:\\w{3}\\s+\\d{1,2}\\s+\\d{2}:\\d{2}:\\d{2}\\s+\\d{4})|(?:\\d{4}-\\d{2}-\\d{2}\\s+\\d{2}:\\d{2}:\\d{2})'\n",
    "    \n",
    "    email_data = []\n",
    "    \n",
    "    try:\n",
    "        with open(log_file, 'r', encoding='utf-8') as file:\n",
    "            lines = file.readlines()\n",
    "            \n",
    "            for line in lines:\n",
    "                # Find emails\n",
    "                emails = re.findall(email_pattern, line)\n",
    "                # Find dates\n",
    "                dates = re.findall(date_pattern, line)\n",
    "                \n",
    "                if emails and dates:\n",
    "                    for email in emails:\n",
    "                        for date in dates:\n",
    "                            email_data.append({'email': email, 'raw_date': date})\n",
    "                            \n",
    "    except FileNotFoundError:\n",
    "        print(f\"Error: File {log_file} not found\")\n",
    "    except Exception as e:\n",
    "        print(f\"Error reading file: {str(e)}\")\n",
    "        \n",
    "    return email_data"
   ]
  },
  {
   "cell_type": "markdown",
   "id": "ad29a6fe-fb62-42ac-928f-60a80c0a7acd",
   "metadata": {},
   "source": [
    "### Task 2: Data Transformation"
   ]
  },
  {
   "cell_type": "code",
   "execution_count": 118,
   "id": "58e44d85-d7f5-4298-b3e7-337fcc5cb205",
   "metadata": {},
   "outputs": [],
   "source": [
    "def transform_data(email_data):\n",
    "    transformed_data = []\n",
    "    \n",
    "    for item in email_data:\n",
    "        try:\n",
    "            # Parse and standardize date\n",
    "            parsed_date = parse(item['raw_date'])\n",
    "            formatted_date = parsed_date.strftime('%Y-%m-%d %H:%M:%S')\n",
    "            \n",
    "            transformed_data.append({\n",
    "                'email': item['email'].lower(),\n",
    "                'date': formatted_date\n",
    "            })\n",
    "        except ValueError as e:\n",
    "            print(f\"Error parsing date {item['raw_date']}: {str(e)}\")\n",
    "            \n",
    "    return transformed_data"
   ]
  },
  {
   "cell_type": "markdown",
   "id": "ccff8847-2efe-495a-b029-c2e4ae7e425e",
   "metadata": {},
   "source": [
    "### Task 3: Save Data to MongoDB"
   ]
  },
  {
   "cell_type": "code",
   "execution_count": 121,
   "id": "f259aa16-e48f-48da-88df-fce655e7ad0a",
   "metadata": {},
   "outputs": [],
   "source": [
    "def save_to_mongodb(data):\n",
    "    try:\n",
    "        client = MongoClient('mongodb://localhost:27017/')\n",
    "        db = client['user_db']\n",
    "        collection = db['user_history']\n",
    "        \n",
    "        # Insert data\n",
    "        if data:\n",
    "            collection.insert_many(data)\n",
    "            print(f\"Successfully inserted {len(data)} records to MongoDB\")\n",
    "            \n",
    "        client.close()\n",
    "    except Exception as e:\n",
    "        print(f\"Error saving to MongoDB: {str(e)}\")"
   ]
  },
  {
   "cell_type": "markdown",
   "id": "815b0751-1e6b-456a-b0ba-3ee4d76caabd",
   "metadata": {},
   "source": [
    "### Task 4: Database Connection and Data Upload"
   ]
  },
  {
   "cell_type": "code",
   "execution_count": 124,
   "id": "3dffc190-1929-4807-b5db-ba57f4080bfa",
   "metadata": {},
   "outputs": [],
   "source": [
    "def save_to_sqlite(data):\n",
    "    try:\n",
    "        # Connect to SQLite\n",
    "        conn = sqlite3.connect('user_history.db')\n",
    "        cursor = conn.cursor()\n",
    "        \n",
    "        # Create table with constraints\n",
    "        cursor.execute('''\n",
    "            CREATE TABLE IF NOT EXISTS user_history (\n",
    "                id INTEGER PRIMARY KEY AUTOINCREMENT,\n",
    "                email TEXT NOT NULL,\n",
    "                date TEXT NOT NULL,\n",
    "                UNIQUE(email, date)\n",
    "            )\n",
    "        ''')\n",
    "        \n",
    "        # Insert data\n",
    "        for item in data:\n",
    "            cursor.execute('''\n",
    "                INSERT OR IGNORE INTO user_history (email, date)\n",
    "                VALUES (?, ?)\n",
    "            ''', (item['email'], item['date']))\n",
    "        \n",
    "        conn.commit()\n",
    "        print(f\"Successfully inserted records to SQLite\")\n",
    "        \n",
    "    except sqlite3.Error as e:\n",
    "        print(f\"SQLite error: {str(e)}\")\n",
    "    finally:\n",
    "        conn.close()"
   ]
  },
  {
   "cell_type": "code",
   "execution_count": 14,
   "id": "651b94f6-7617-4a30-ac18-4b04a0951390",
   "metadata": {},
   "outputs": [
    {
     "name": "stdout",
     "output_type": "stream",
     "text": [
      "Successfully inserted 2140 records to MongoDB\n",
      "Successfully inserted records to SQLite\n"
     ]
    }
   ],
   "source": [
    "# Main execution\n",
    "def main():\n",
    "    log_file = 'C:/Guvi/mbox.txt'\n",
    "    \n",
    "    # Execute tasks\n",
    "    email_data = extract_email_data(log_file)\n",
    "    if not email_data:\n",
    "        print(\"No data extracted\")\n",
    "        return\n",
    "        \n",
    "    transformed_data = transform_data(email_data)\n",
    "    if not transformed_data:\n",
    "        print(\"No data transformed\")\n",
    "        return\n",
    "        \n",
    "    save_to_mongodb(transformed_data)\n",
    "    save_to_sqlite(transformed_data)\n",
    "\n",
    "if __name__ == \"__main__\":\n",
    "    main()"
   ]
  },
  {
   "cell_type": "markdown",
   "id": "46216aeb-b98e-4d96-825f-e858119d4189",
   "metadata": {},
   "source": [
    "### Queries:"
   ]
  },
  {
   "cell_type": "code",
   "execution_count": 131,
   "id": "f3e78b0f-1023-465f-9f7a-48a36148da80",
   "metadata": {},
   "outputs": [],
   "source": [
    "import sqlite3\n",
    "\n",
    "def run_query(query, params=()):\n",
    "    try:\n",
    "        conn = sqlite3.connect('user_history.db')\n",
    "        cursor = conn.cursor()\n",
    "        cursor.execute(query, params)\n",
    "        results = cursor.fetchall()\n",
    "        conn.close()\n",
    "        return results\n",
    "    except sqlite3.Error as e:\n",
    "        print(f\"SQLite error: {str(e)}\")\n",
    "        return []\n",
    "\n",
    "def print_results(query, results):\n",
    "    for row in results:\n",
    "        print(row)"
   ]
  },
  {
   "cell_type": "markdown",
   "id": "513ad0b0-dab6-4d5a-9148-a4078469c3f1",
   "metadata": {},
   "source": [
    "#### List all unique email addresses."
   ]
  },
  {
   "cell_type": "code",
   "execution_count": 134,
   "id": "c0a5cc74-73cb-4c9c-bbb1-931dae31834e",
   "metadata": {},
   "outputs": [
    {
     "name": "stdout",
     "output_type": "stream",
     "text": [
      "('a.fish@lancaster.ac.uk',)\n",
      "('aaronz@vt.edu',)\n",
      "('ajpoland@iupui.edu',)\n",
      "('antranig@caret.cam.ac.uk',)\n",
      "('arwhyte@umich.edu',)\n",
      "('bahollad@indiana.edu',)\n",
      "('bkirschn@umich.edu',)\n",
      "('chmaurer@iupui.edu',)\n",
      "('colin.clark@utoronto.ca',)\n",
      "('csev@umich.edu',)\n",
      "('cwen@iupui.edu',)\n",
      "('david.horwitz@uct.ac.za',)\n",
      "('dlhaines@umich.edu',)\n",
      "('dsobiera@indiana.edu',)\n",
      "('eli@media.berkeley.edu',)\n",
      "('gbhatnag@umich.edu',)\n",
      "('ggolden@umich.edu',)\n",
      "('gjthomas@iupui.edu',)\n",
      "('gopal.ramasammycook@gmail.com',)\n",
      "('gsilver@umich.edu',)\n",
      "('hu2@iupui.edu',)\n",
      "('ian@caret.cam.ac.uk',)\n",
      "('jbush@rsmart.com',)\n",
      "('jholtzman@berkeley.edu',)\n",
      "('jimeng@umich.edu',)\n",
      "('jleasia@umich.edu',)\n",
      "('jlrenfro@ucdavis.edu',)\n",
      "('john.ellis@rsmart.com',)\n",
      "('joshua.ryan@asu.edu',)\n",
      "('josrodri@iupui.edu',)\n",
      "('jzaremba@unicon.net',)\n",
      "('kimsooil@bu.edu',)\n",
      "('knoop@umich.edu',)\n",
      "('ktsao@stanford.edu',)\n",
      "('lance@indiana.edu',)\n",
      "('louis@media.berkeley.edu',)\n",
      "('mbreuker@loi.nl',)\n",
      "('mmmay@indiana.edu',)\n",
      "('nuno@ufp.pt',)\n",
      "('ostermmg@whitman.edu',)\n",
      "('ray@media.berkeley.edu',)\n",
      "('rjlowe@iupui.edu',)\n",
      "('sgithens@caret.cam.ac.uk',)\n",
      "('ssmail@indiana.edu',)\n",
      "('stephen.marquard@uct.ac.za',)\n",
      "('stuart.freeman@et.gatech.edu',)\n",
      "('thoppaymallika@fhda.edu',)\n",
      "('tnguyen@iupui.edu',)\n",
      "('wagnermr@iupui.edu',)\n",
      "('wang58@iupui.edu',)\n",
      "('zach.thomas@txstate.edu',)\n",
      "('zqian@umich.edu',)\n"
     ]
    }
   ],
   "source": [
    "query = \"SELECT DISTINCT email FROM user_history ORDER BY email;\"\n",
    "results = run_query(query)\n",
    "print_results(query, results)"
   ]
  },
  {
   "cell_type": "markdown",
   "id": "afd4212c-4326-4f52-8d56-ec64eb33e176",
   "metadata": {},
   "source": [
    "#### Count the number of emails received per day."
   ]
  },
  {
   "cell_type": "code",
   "execution_count": 137,
   "id": "490bcac5-6977-41c2-b564-d04440793575",
   "metadata": {},
   "outputs": [
    {
     "name": "stdout",
     "output_type": "stream",
     "text": [
      "('2007-04-17', 1)\n",
      "('2007-06-12', 1)\n",
      "('2007-06-18', 1)\n",
      "('2007-06-19', 5)\n",
      "('2007-06-26', 2)\n",
      "('2007-06-27', 2)\n",
      "('2007-07-02', 1)\n",
      "('2007-07-16', 1)\n",
      "('2007-07-17', 1)\n",
      "('2007-07-27', 1)\n",
      "('2007-08-11', 1)\n",
      "('2007-08-20', 1)\n",
      "('2007-08-21', 1)\n",
      "('2007-08-24', 3)\n",
      "('2007-08-30', 3)\n",
      "('2007-09-12', 1)\n",
      "('2007-09-21', 1)\n",
      "('2007-09-26', 1)\n",
      "('2007-10-03', 1)\n",
      "('2007-10-05', 2)\n",
      "('2007-10-06', 7)\n",
      "('2007-10-08', 1)\n",
      "('2007-10-09', 2)\n",
      "('2007-10-10', 2)\n",
      "('2007-10-12', 2)\n",
      "('2007-10-15', 2)\n",
      "('2007-10-16', 1)\n",
      "('2007-10-18', 14)\n",
      "('2007-10-19', 29)\n",
      "('2007-10-22', 16)\n",
      "('2007-10-23', 36)\n",
      "('2007-10-24', 26)\n",
      "('2007-10-25', 40)\n",
      "('2007-10-26', 39)\n",
      "('2007-10-28', 2)\n",
      "('2007-10-29', 100)\n",
      "('2007-10-30', 62)\n",
      "('2007-10-31', 24)\n",
      "('2007-11-01', 25)\n",
      "('2007-11-02', 18)\n",
      "('2007-11-04', 27)\n",
      "('2007-11-05', 37)\n",
      "('2007-11-06', 77)\n",
      "('2007-11-07', 34)\n",
      "('2007-11-08', 33)\n",
      "('2007-11-09', 29)\n",
      "('2007-11-10', 17)\n",
      "('2007-11-11', 5)\n",
      "('2007-11-12', 21)\n",
      "('2007-11-13', 26)\n",
      "('2007-11-14', 48)\n",
      "('2007-11-15', 41)\n",
      "('2007-11-16', 27)\n",
      "('2007-11-18', 2)\n",
      "('2007-11-19', 57)\n",
      "('2007-11-20', 72)\n",
      "('2007-11-21', 23)\n",
      "('2007-11-23', 1)\n",
      "('2007-11-24', 4)\n",
      "('2007-11-25', 3)\n",
      "('2007-11-26', 13)\n",
      "('2007-11-27', 24)\n",
      "('2007-11-28', 32)\n",
      "('2007-11-29', 54)\n",
      "('2007-11-30', 36)\n",
      "('2007-12-01', 9)\n",
      "('2007-12-02', 4)\n",
      "('2007-12-03', 19)\n",
      "('2007-12-04', 11)\n",
      "('2007-12-05', 10)\n",
      "('2007-12-06', 41)\n",
      "('2007-12-07', 58)\n",
      "('2007-12-08', 2)\n",
      "('2007-12-09', 3)\n",
      "('2007-12-10', 14)\n",
      "('2007-12-11', 39)\n",
      "('2007-12-12', 54)\n",
      "('2007-12-13', 66)\n",
      "('2007-12-14', 58)\n",
      "('2007-12-15', 29)\n",
      "('2007-12-16', 15)\n",
      "('2007-12-17', 66)\n",
      "('2007-12-18', 70)\n",
      "('2007-12-19', 43)\n",
      "('2007-12-20', 59)\n",
      "('2007-12-21', 43)\n",
      "('2007-12-22', 2)\n",
      "('2007-12-23', 1)\n",
      "('2007-12-24', 2)\n",
      "('2007-12-25', 1)\n",
      "('2007-12-26', 3)\n",
      "('2007-12-27', 17)\n",
      "('2007-12-28', 8)\n",
      "('2007-12-29', 4)\n",
      "('2007-12-30', 8)\n",
      "('2007-12-31', 9)\n",
      "('2008-01-01', 2)\n",
      "('2008-01-02', 34)\n",
      "('2008-01-03', 43)\n",
      "('2008-01-04', 21)\n",
      "('2008-01-05', 1)\n"
     ]
    }
   ],
   "source": [
    "query = \"\"\"\n",
    "SELECT DATE(date) AS email_date, COUNT(*) AS email_count\n",
    "FROM user_history\n",
    "GROUP BY DATE(date)\n",
    "ORDER BY email_date;\n",
    "\"\"\"\n",
    "results = run_query(query)\n",
    "print_results(query, results)"
   ]
  },
  {
   "cell_type": "markdown",
   "id": "2ad4f62f-0abe-422f-9db7-84f4df3d19b9",
   "metadata": {},
   "source": [
    "#### Find the first and last email date for each email address."
   ]
  },
  {
   "cell_type": "code",
   "execution_count": 140,
   "id": "871c9686-1a92-4dad-bebb-4094f3179ba0",
   "metadata": {},
   "outputs": [
    {
     "name": "stdout",
     "output_type": "stream",
     "text": [
      "('a.fish@lancaster.ac.uk', '2007-10-29 08:00:00', '2007-12-19 10:34:30')\n",
      "('aaronz@vt.edu', '2007-10-18 13:14:54', '2008-01-02 09:13:10')\n",
      "('ajpoland@iupui.edu', '2007-10-19 09:24:52', '2007-12-18 15:46:20')\n",
      "('antranig@caret.cam.ac.uk', '2007-11-06 11:34:04', '2008-01-04 10:04:14')\n",
      "('arwhyte@umich.edu', '2007-11-06 15:49:36', '2007-12-20 11:58:05')\n",
      "('bahollad@indiana.edu', '2007-10-26 08:51:00', '2007-11-05 13:13:07')\n",
      "('bkirschn@umich.edu', '2007-06-18 17:12:48', '2007-12-26 16:33:12')\n",
      "('chmaurer@iupui.edu', '2007-10-18 11:51:45', '2008-01-02 16:55:17')\n",
      "('colin.clark@utoronto.ca', '2007-10-26 19:22:56', '2007-10-26 19:25:59')\n",
      "('csev@umich.edu', '2007-11-05 10:49:26', '2007-12-30 22:44:30')\n",
      "('cwen@iupui.edu', '2007-10-19 15:30:58', '2008-01-04 11:37:30')\n",
      "('david.horwitz@uct.ac.za', '2007-09-26 05:26:53', '2008-01-04 13:05:51')\n",
      "('dlhaines@umich.edu', '2007-10-18 10:56:16', '2007-12-21 13:56:39')\n",
      "('dsobiera@indiana.edu', '2007-10-24 15:54:09', '2007-11-16 16:08:33')\n",
      "('eli@media.berkeley.edu', '2007-10-31 14:21:49', '2007-10-31 14:21:49')\n",
      "('gbhatnag@umich.edu', '2007-12-11 15:04:40', '2007-12-19 22:10:31')\n",
      "('ggolden@umich.edu', '2007-11-06 11:33:49', '2007-11-25 15:55:31')\n",
      "('gjthomas@iupui.edu', '2007-10-22 14:54:31', '2007-12-19 13:30:53')\n",
      "('gopal.ramasammycook@gmail.com', '2007-11-06 09:08:41', '2008-01-04 09:05:31')\n",
      "('gsilver@umich.edu', '2007-06-19 08:36:50', '2008-01-04 11:12:37')\n",
      "('hu2@iupui.edu', '2007-10-29 13:16:37', '2007-12-20 21:27:29')\n",
      "('ian@caret.cam.ac.uk', '2007-07-17 07:54:46', '2008-01-01 20:25:00')\n",
      "('jbush@rsmart.com', '2007-12-14 15:39:41', '2007-12-14 15:39:41')\n",
      "('jholtzman@berkeley.edu', '2007-10-15 18:29:26', '2007-10-15 18:29:26')\n",
      "('jimeng@umich.edu', '2007-10-28 20:48:23', '2007-12-30 12:38:52')\n",
      "('jleasia@umich.edu', '2007-10-30 07:18:55', '2007-11-29 09:29:26')\n",
      "('jlrenfro@ucdavis.edu', '2007-12-17 13:34:32', '2007-12-17 13:34:32')\n",
      "('john.ellis@rsmart.com', '2007-10-30 14:44:35', '2007-11-29 12:35:26')\n",
      "('joshua.ryan@asu.edu', '2007-07-27 16:04:51', '2007-11-30 00:20:17')\n",
      "('josrodri@iupui.edu', '2007-06-26 16:33:06', '2007-12-28 23:44:24')\n",
      "('jzaremba@unicon.net', '2007-10-18 12:17:38', '2007-11-05 11:47:35')\n",
      "('kimsooil@bu.edu', '2007-07-16 13:53:33', '2007-11-15 10:18:53')\n",
      "('knoop@umich.edu', '2007-12-27 17:52:14', '2007-12-27 17:54:58')\n",
      "('ktsao@stanford.edu', '2007-08-30 14:59:20', '2007-12-13 18:25:49')\n",
      "('lance@indiana.edu', '2007-11-20 08:47:02', '2007-12-18 12:23:24')\n",
      "('louis@media.berkeley.edu', '2007-10-25 11:28:47', '2008-01-04 18:10:48')\n",
      "('mbreuker@loi.nl', '2007-10-24 07:10:15', '2007-10-29 11:16:54')\n",
      "('mmmay@indiana.edu', '2007-10-29 15:17:29', '2008-01-03 13:39:06')\n",
      "('nuno@ufp.pt', '2007-10-30 11:58:56', '2007-12-17 12:07:00')\n",
      "('ostermmg@whitman.edu', '2007-11-01 18:00:01', '2007-12-13 16:41:21')\n",
      "('ray@media.berkeley.edu', '2007-04-17 14:20:23', '2008-01-03 17:07:00')\n",
      "('rjlowe@iupui.edu', '2007-08-30 09:55:04', '2008-01-04 15:46:24')\n",
      "('sgithens@caret.cam.ac.uk', '2007-10-31 08:23:45', '2007-12-20 13:13:44')\n",
      "('ssmail@indiana.edu', '2007-11-20 13:27:22', '2007-12-17 14:20:43')\n",
      "('stephen.marquard@uct.ac.za', '2007-12-16 03:57:28', '2008-01-05 09:14:16')\n",
      "('stuart.freeman@et.gatech.edu', '2007-11-27 16:13:53', '2008-01-03 10:23:05')\n",
      "('thoppaymallika@fhda.edu', '2007-11-19 13:58:00', '2007-11-19 13:58:00')\n",
      "('tnguyen@iupui.edu', '2007-12-15 08:54:18', '2008-01-03 09:22:37')\n",
      "('wagnermr@iupui.edu', '2007-06-26 08:26:25', '2008-01-04 10:38:42')\n",
      "('wang58@iupui.edu', '2007-10-10 11:32:30', '2007-12-10 13:48:59')\n",
      "('zach.thomas@txstate.edu', '2007-10-16 14:54:11', '2007-12-17 00:02:37')\n",
      "('zqian@umich.edu', '2007-06-12 12:49:35', '2008-01-04 16:10:39')\n"
     ]
    }
   ],
   "source": [
    "query = \"\"\"\n",
    "SELECT email, MIN(date) AS first_email, MAX(date) AS last_email\n",
    "FROM user_history\n",
    "GROUP BY email\n",
    "ORDER BY email;\n",
    "\"\"\"\n",
    "results = run_query(query)\n",
    "print_results(query, results)"
   ]
  },
  {
   "cell_type": "markdown",
   "id": "464b2dfd-cd28-4c07-98e7-aed570b841ae",
   "metadata": {},
   "source": [
    "#### Count the total number of emails from each domain."
   ]
  },
  {
   "cell_type": "code",
   "execution_count": 143,
   "id": "8def910d-c35b-4cd6-aca0-de199bca9212",
   "metadata": {},
   "outputs": [
    {
     "ename": "TypeError",
     "evalue": "print_results() missing 1 required positional argument: 'results'",
     "output_type": "error",
     "traceback": [
      "\u001b[1;31m---------------------------------------------------------------------------\u001b[0m",
      "\u001b[1;31mTypeError\u001b[0m                                 Traceback (most recent call last)",
      "Cell \u001b[1;32mIn[143], line 8\u001b[0m\n\u001b[0;32m      1\u001b[0m query \u001b[38;5;241m=\u001b[39m \u001b[38;5;124m\"\"\"\u001b[39m\n\u001b[0;32m      2\u001b[0m \u001b[38;5;124mSELECT SUBSTR(email, INSTR(email, \u001b[39m\u001b[38;5;124m'\u001b[39m\u001b[38;5;124m@\u001b[39m\u001b[38;5;124m'\u001b[39m\u001b[38;5;124m) + 1) AS domain, COUNT(*) AS email_count\u001b[39m\n\u001b[0;32m      3\u001b[0m \u001b[38;5;124mFROM user_history\u001b[39m\n\u001b[0;32m      4\u001b[0m \u001b[38;5;124mGROUP BY domain\u001b[39m\n\u001b[0;32m      5\u001b[0m \u001b[38;5;124mORDER BY email_count DESC;\u001b[39m\n\u001b[0;32m      6\u001b[0m \u001b[38;5;124m\"\"\"\u001b[39m\n\u001b[0;32m      7\u001b[0m results \u001b[38;5;241m=\u001b[39m run_query(query)\n\u001b[1;32m----> 8\u001b[0m print_results(results)\n",
      "\u001b[1;31mTypeError\u001b[0m: print_results() missing 1 required positional argument: 'results'"
     ]
    }
   ],
   "source": [
    "query = \"\"\"\n",
    "SELECT SUBSTR(email, INSTR(email, '@') + 1) AS domain, COUNT(*) AS email_count\n",
    "FROM user_history\n",
    "GROUP BY domain\n",
    "ORDER BY email_count DESC;\n",
    "\"\"\"\n",
    "results = run_query(query)\n",
    "print_results(results)"
   ]
  },
  {
   "cell_type": "markdown",
   "id": "f0054d5a-3daf-4fc9-ac84-6fbcdb1ca00a",
   "metadata": {},
   "source": [
    "#### Question_1: How many emails were received each hour of the day (across all days)?"
   ]
  },
  {
   "cell_type": "code",
   "execution_count": 146,
   "id": "0ab34c59-cf97-4dbc-9b90-fc7d1f5a82b2",
   "metadata": {},
   "outputs": [
    {
     "name": "stdout",
     "output_type": "stream",
     "text": [
      "('00', 24)\n",
      "('01', 13)\n",
      "('02', 17)\n",
      "('03', 21)\n",
      "('04', 33)\n",
      "('05', 14)\n",
      "('06', 47)\n",
      "('07', 45)\n",
      "('08', 80)\n",
      "('09', 184)\n",
      "('10', 224)\n",
      "('11', 180)\n",
      "('12', 130)\n",
      "('13', 133)\n",
      "('14', 185)\n",
      "('15', 188)\n",
      "('16', 202)\n",
      "('17', 112)\n",
      "('18', 64)\n",
      "('19', 56)\n",
      "('20', 41)\n",
      "('21', 46)\n",
      "('22', 29)\n",
      "('23', 23)\n"
     ]
    }
   ],
   "source": [
    "query = \"\"\"\n",
    "SELECT STRFTIME('%H', date) AS hour_of_day, COUNT(*) AS email_count\n",
    "FROM user_history\n",
    "GROUP BY hour_of_day\n",
    "ORDER BY hour_of_day;\n",
    "\"\"\"\n",
    "print_results(query, run_query(query))"
   ]
  },
  {
   "cell_type": "markdown",
   "id": "dd3d5a1d-615f-4498-809e-a70fa750f8dd",
   "metadata": {},
   "source": [
    "#### Question_2: Which email addresses sent more than one email?"
   ]
  },
  {
   "cell_type": "code",
   "execution_count": 149,
   "id": "245af964-3cc2-432b-bbdb-e7f18757aa69",
   "metadata": {},
   "outputs": [
    {
     "name": "stdout",
     "output_type": "stream",
     "text": [
      "('zqian@umich.edu', 242)\n",
      "('cwen@iupui.edu', 176)\n",
      "('mmmay@indiana.edu', 161)\n",
      "('ian@caret.cam.ac.uk', 127)\n",
      "('chmaurer@iupui.edu', 116)\n",
      "('aaronz@vt.edu', 112)\n",
      "('jimeng@umich.edu', 105)\n",
      "('rjlowe@iupui.edu', 100)\n",
      "('david.horwitz@uct.ac.za', 85)\n",
      "('dlhaines@umich.edu', 84)\n",
      "('wagnermr@iupui.edu', 59)\n",
      "('gjthomas@iupui.edu', 51)\n",
      "('ajpoland@iupui.edu', 48)\n",
      "('bkirschn@umich.edu', 48)\n",
      "('josrodri@iupui.edu', 46)\n",
      "('sgithens@caret.cam.ac.uk', 44)\n",
      "('gsilver@umich.edu', 36)\n",
      "('ray@media.berkeley.edu', 33)\n",
      "('nuno@ufp.pt', 30)\n",
      "('stephen.marquard@uct.ac.za', 29)\n",
      "('louis@media.berkeley.edu', 28)\n",
      "('arwhyte@umich.edu', 27)\n",
      "('gopal.ramasammycook@gmail.com', 25)\n",
      "('csev@umich.edu', 19)\n",
      "('zach.thomas@txstate.edu', 19)\n",
      "('antranig@caret.cam.ac.uk', 18)\n",
      "('kimsooil@bu.edu', 18)\n",
      "('ktsao@stanford.edu', 18)\n",
      "('mbreuker@loi.nl', 18)\n",
      "('ostermmg@whitman.edu', 17)\n",
      "('stuart.freeman@et.gatech.edu', 17)\n",
      "('dsobiera@indiana.edu', 16)\n",
      "('a.fish@lancaster.ac.uk', 15)\n",
      "('john.ellis@rsmart.com', 14)\n",
      "('hu2@iupui.edu', 10)\n",
      "('jzaremba@unicon.net', 9)\n",
      "('lance@indiana.edu', 9)\n",
      "('bahollad@indiana.edu', 8)\n",
      "('ggolden@umich.edu', 8)\n",
      "('ssmail@indiana.edu', 8)\n",
      "('joshua.ryan@asu.edu', 7)\n",
      "('tnguyen@iupui.edu', 6)\n",
      "('wang58@iupui.edu', 6)\n",
      "('gbhatnag@umich.edu', 5)\n",
      "('knoop@umich.edu', 5)\n",
      "('colin.clark@utoronto.ca', 2)\n",
      "('jleasia@umich.edu', 2)\n"
     ]
    }
   ],
   "source": [
    "query = \"\"\"\n",
    "SELECT email, COUNT(*) AS email_count\n",
    "FROM user_history\n",
    "GROUP BY email\n",
    "HAVING email_count > 1\n",
    "ORDER BY email_count DESC;\n",
    "\"\"\"\n",
    "print_results(query, run_query(query))"
   ]
  },
  {
   "cell_type": "markdown",
   "id": "6ae59950-d074-4a5f-90bc-f423b13694f6",
   "metadata": {},
   "source": [
    "#### Question_3: What are the top 3 days with the most emails?"
   ]
  },
  {
   "cell_type": "code",
   "execution_count": 152,
   "id": "c88051e8-4002-44a1-a850-6718e36308ae",
   "metadata": {},
   "outputs": [
    {
     "name": "stdout",
     "output_type": "stream",
     "text": [
      "('2007-10-29', 100)\n",
      "('2007-11-06', 77)\n",
      "('2007-11-20', 72)\n"
     ]
    }
   ],
   "source": [
    "query = \"\"\"\n",
    "SELECT DATE(date) AS email_date, COUNT(*) AS email_count\n",
    "FROM user_history\n",
    "GROUP BY email_date\n",
    "ORDER BY email_count DESC\n",
    "LIMIT 3;\n",
    "\"\"\"\n",
    "print_results(query, run_query(query))"
   ]
  },
  {
   "cell_type": "markdown",
   "id": "e2377efb-feb2-4153-bfda-5f52ee9f6e5f",
   "metadata": {},
   "source": [
    "#### Question_4: How many unique domains are present in the dataset?"
   ]
  },
  {
   "cell_type": "code",
   "execution_count": 155,
   "id": "28ab4d1e-e3ef-4643-9276-4acb73496f7d",
   "metadata": {},
   "outputs": [
    {
     "name": "stdout",
     "output_type": "stream",
     "text": [
      "(23,)\n"
     ]
    }
   ],
   "source": [
    "query = \"\"\"\n",
    "SELECT COUNT(DISTINCT SUBSTR(email, INSTR(email, '@') + 1)) AS unique_domains\n",
    "FROM user_history;\n",
    "\"\"\"\n",
    "print_results(query, run_query(query))"
   ]
  },
  {
   "cell_type": "markdown",
   "id": "1ed4c788-675d-4a28-af47-fb355cfc52c4",
   "metadata": {},
   "source": [
    "#### Question_5: Which email addresses were active on a specific date (e.g., '2025-04-12')?"
   ]
  },
  {
   "cell_type": "code",
   "execution_count": 158,
   "id": "25de4019-d309-485d-affd-f0aab8d14cac",
   "metadata": {},
   "outputs": [],
   "source": [
    "query = \"\"\"\n",
    "SELECT DISTINCT email\n",
    "FROM user_history\n",
    "WHERE DATE(date) = '2024-04-12'\n",
    "ORDER BY email;\n",
    "\"\"\"\n",
    "print_results(query, run_query(query))"
   ]
  },
  {
   "cell_type": "markdown",
   "id": "a6c815c2-67b4-41e8-a19a-20585cdc0a6b",
   "metadata": {},
   "source": [
    "#### Question_6: What is the average number of emails per email address?"
   ]
  },
  {
   "cell_type": "code",
   "execution_count": 161,
   "id": "fffbfe3a-e881-48a3-a966-a3716fc97738",
   "metadata": {},
   "outputs": [
    {
     "name": "stdout",
     "output_type": "stream",
     "text": [
      "(40.21153846153846,)\n"
     ]
    }
   ],
   "source": [
    "query = \"\"\"\n",
    "SELECT AVG(email_count) AS avg_emails\n",
    "FROM (\n",
    "    SELECT email, COUNT(*) AS email_count\n",
    "    FROM user_history\n",
    "    GROUP BY email\n",
    ") AS subquery;\n",
    "\"\"\"\n",
    "print_results(query, run_query(query))"
   ]
  },
  {
   "cell_type": "markdown",
   "id": "5801ac66-f654-4c49-8f6a-29e46fa6b040",
   "metadata": {},
   "source": [
    "#### Question_7: Which domains sent emails on multiple days?"
   ]
  },
  {
   "cell_type": "code",
   "execution_count": 164,
   "id": "cadf644a-410a-44fc-b502-aa0f091cf682",
   "metadata": {},
   "outputs": [
    {
     "name": "stdout",
     "output_type": "stream",
     "text": [
      "('asu.edu',)\n",
      "('bu.edu',)\n",
      "('caret.cam.ac.uk',)\n",
      "('et.gatech.edu',)\n",
      "('gmail.com',)\n",
      "('indiana.edu',)\n",
      "('iupui.edu',)\n",
      "('lancaster.ac.uk',)\n",
      "('loi.nl',)\n",
      "('media.berkeley.edu',)\n",
      "('rsmart.com',)\n",
      "('stanford.edu',)\n",
      "('txstate.edu',)\n",
      "('uct.ac.za',)\n",
      "('ufp.pt',)\n",
      "('umich.edu',)\n",
      "('unicon.net',)\n",
      "('vt.edu',)\n",
      "('whitman.edu',)\n"
     ]
    }
   ],
   "source": [
    "query = \"\"\"\n",
    "SELECT SUBSTR(email, INSTR(email, '@') + 1) AS domain\n",
    "FROM user_history\n",
    "GROUP BY domain\n",
    "HAVING COUNT(DISTINCT DATE(date)) > 1\n",
    "ORDER BY domain;\n",
    "\"\"\"\n",
    "print_results(query, run_query(query))"
   ]
  },
  {
   "cell_type": "markdown",
   "id": "8e24e980-9506-45be-9730-4df7a07adfb9",
   "metadata": {},
   "source": [
    "#### Question_8: What is the time gap (in days) between the first and last email for each email address?"
   ]
  },
  {
   "cell_type": "code",
   "execution_count": 167,
   "id": "cc189117-8481-4c47-99a6-9ab27d750a7e",
   "metadata": {},
   "outputs": [
    {
     "name": "stdout",
     "output_type": "stream",
     "text": [
      "('ray@media.berkeley.edu', 261.1157060181722)\n",
      "('zqian@umich.edu', 206.1396296294406)\n",
      "('gsilver@umich.edu', 199.10818287031725)\n",
      "('wagnermr@iupui.edu', 192.0918634259142)\n",
      "('bkirschn@umich.edu', 190.972500000149)\n",
      "('josrodri@iupui.edu', 185.299513889011)\n",
      "('ian@caret.cam.ac.uk', 168.52099537057802)\n",
      "('rjlowe@iupui.edu', 127.24398148152977)\n",
      "('joshua.ryan@asu.edu', 125.34405092569068)\n",
      "('kimsooil@bu.edu', 121.85092592611909)\n",
      "('ktsao@stanford.edu', 105.14339120360091)\n",
      "('david.horwitz@uct.ac.za', 100.31872685207054)\n",
      "('cwen@iupui.edu', 76.83787037059665)\n",
      "('chmaurer@iupui.edu', 76.21078703738749)\n",
      "('aaronz@vt.edu', 75.83212962979451)\n",
      "('louis@media.berkeley.edu', 71.27917824080214)\n",
      "('mmmay@indiana.edu', 65.93167824111879)\n",
      "('dlhaines@umich.edu', 64.12526620412245)\n",
      "('jimeng@umich.edu', 62.66005787020549)\n",
      "('zach.thomas@txstate.edu', 61.38085648138076)\n",
      "('wang58@iupui.edu', 61.09478009259328)\n",
      "('ajpoland@iupui.edu', 60.264907407574356)\n",
      "('gopal.ramasammycook@gmail.com', 58.99780092621222)\n",
      "('antranig@caret.cam.ac.uk', 58.93761574104428)\n",
      "('gjthomas@iupui.edu', 57.94192129606381)\n",
      "('csev@umich.edu', 55.49657407402992)\n",
      "('hu2@iupui.edu', 52.3408796293661)\n",
      "('a.fish@lancaster.ac.uk', 51.10729166632518)\n",
      "('sgithens@caret.cam.ac.uk', 50.20137731451541)\n",
      "('nuno@ufp.pt', 48.005601852200925)\n",
      "('arwhyte@umich.edu', 43.8392245369032)\n",
      "('ostermmg@whitman.edu', 41.94537037052214)\n",
      "('stuart.freeman@et.gatech.edu', 36.756388888694346)\n",
      "('jleasia@umich.edu', 30.09063657419756)\n",
      "('john.ellis@rsmart.com', 29.91031250031665)\n",
      "('lance@indiana.edu', 28.150254629552364)\n",
      "('ssmail@indiana.edu', 27.03704861085862)\n",
      "('dsobiera@indiana.edu', 23.009999999776483)\n",
      "('stephen.marquard@uct.ac.za', 20.21999999973923)\n",
      "('ggolden@umich.edu', 19.18173611117527)\n",
      "('tnguyen@iupui.edu', 19.019664351828396)\n",
      "('jzaremba@unicon.net', 17.979131944477558)\n",
      "('bahollad@indiana.edu', 10.182025462854654)\n",
      "('gbhatnag@umich.edu', 8.295729166362435)\n",
      "('mbreuker@loi.nl', 5.171284722164273)\n",
      "('colin.clark@utoronto.ca', 0.002118055708706379)\n",
      "('knoop@umich.edu', 0.0018981480970978737)\n"
     ]
    }
   ],
   "source": [
    "query = \"\"\"\n",
    "SELECT email,\n",
    "       JULIANDAY(MAX(date)) - JULIANDAY(MIN(date)) AS days_between\n",
    "FROM user_history\n",
    "GROUP BY email\n",
    "HAVING days_between > 0\n",
    "ORDER BY days_between DESC;\n",
    "\"\"\"\n",
    "print_results(query, run_query(query))"
   ]
  },
  {
   "cell_type": "markdown",
   "id": "3552cfe5-a209-4a56-9b86-42f35511709f",
   "metadata": {},
   "source": [
    "#### Question_9: Which email addresses sent emails in the morning (before 12 PM)?"
   ]
  },
  {
   "cell_type": "code",
   "execution_count": 170,
   "id": "5985e46d-912b-478b-bd7d-bcdd4811d4b0",
   "metadata": {},
   "outputs": [
    {
     "name": "stdout",
     "output_type": "stream",
     "text": [
      "('a.fish@lancaster.ac.uk',)\n",
      "('aaronz@vt.edu',)\n",
      "('ajpoland@iupui.edu',)\n",
      "('antranig@caret.cam.ac.uk',)\n",
      "('arwhyte@umich.edu',)\n",
      "('bahollad@indiana.edu',)\n",
      "('bkirschn@umich.edu',)\n",
      "('chmaurer@iupui.edu',)\n",
      "('csev@umich.edu',)\n",
      "('cwen@iupui.edu',)\n",
      "('david.horwitz@uct.ac.za',)\n",
      "('dlhaines@umich.edu',)\n",
      "('ggolden@umich.edu',)\n",
      "('gjthomas@iupui.edu',)\n",
      "('gopal.ramasammycook@gmail.com',)\n",
      "('gsilver@umich.edu',)\n",
      "('hu2@iupui.edu',)\n",
      "('ian@caret.cam.ac.uk',)\n",
      "('jimeng@umich.edu',)\n",
      "('jleasia@umich.edu',)\n",
      "('john.ellis@rsmart.com',)\n",
      "('joshua.ryan@asu.edu',)\n",
      "('josrodri@iupui.edu',)\n",
      "('jzaremba@unicon.net',)\n",
      "('kimsooil@bu.edu',)\n",
      "('ktsao@stanford.edu',)\n",
      "('lance@indiana.edu',)\n",
      "('louis@media.berkeley.edu',)\n",
      "('mbreuker@loi.nl',)\n",
      "('mmmay@indiana.edu',)\n",
      "('nuno@ufp.pt',)\n",
      "('ray@media.berkeley.edu',)\n",
      "('rjlowe@iupui.edu',)\n",
      "('sgithens@caret.cam.ac.uk',)\n",
      "('ssmail@indiana.edu',)\n",
      "('stephen.marquard@uct.ac.za',)\n",
      "('stuart.freeman@et.gatech.edu',)\n",
      "('tnguyen@iupui.edu',)\n",
      "('wagnermr@iupui.edu',)\n",
      "('wang58@iupui.edu',)\n",
      "('zach.thomas@txstate.edu',)\n",
      "('zqian@umich.edu',)\n"
     ]
    }
   ],
   "source": [
    "query = \"\"\"\n",
    "SELECT DISTINCT email\n",
    "FROM user_history\n",
    "WHERE STRFTIME('%H', date) < '12'\n",
    "ORDER BY email;\n",
    "\"\"\"\n",
    "print_results(query, run_query(query))"
   ]
  },
  {
   "cell_type": "markdown",
   "id": "22a9f720-ae51-4c65-9cd2-9c09ed28261e",
   "metadata": {},
   "source": [
    "#### Question_10: What is the total number of emails in the database?"
   ]
  },
  {
   "cell_type": "code",
   "execution_count": 173,
   "id": "ae451e5d-06cf-4b1f-b769-7b27ce069329",
   "metadata": {},
   "outputs": [
    {
     "name": "stdout",
     "output_type": "stream",
     "text": [
      "(2091,)\n"
     ]
    }
   ],
   "source": [
    "query = \"SELECT COUNT(*) AS total_emails FROM user_history;\"\n",
    "print_results(query, run_query(query))"
   ]
  },
  {
   "cell_type": "code",
   "execution_count": null,
   "id": "5806e207-e10b-4656-a9fd-9749a5e42853",
   "metadata": {},
   "outputs": [],
   "source": []
  },
  {
   "cell_type": "code",
   "execution_count": null,
   "id": "4364b1d8-c729-47e6-8230-f4b566b83f6e",
   "metadata": {},
   "outputs": [],
   "source": []
  }
 ],
 "metadata": {
  "kernelspec": {
   "display_name": "Python [conda env:base] *",
   "language": "python",
   "name": "conda-base-py"
  },
  "language_info": {
   "codemirror_mode": {
    "name": "ipython",
    "version": 3
   },
   "file_extension": ".py",
   "mimetype": "text/x-python",
   "name": "python",
   "nbconvert_exporter": "python",
   "pygments_lexer": "ipython3",
   "version": "3.12.7"
  }
 },
 "nbformat": 4,
 "nbformat_minor": 5
}
